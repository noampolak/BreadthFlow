{
  "cells": [
    {
      "cell_type": "markdown",
      "metadata": {},
      "source": [
        "# BreadthFlow ML Pipeline Test\n",
        "\n",
        "This notebook tests the complete ML pipeline including:\n",
        "- Data ingestion\n",
        "- Feature engineering\n",
        "- Model training\n",
        "- Experiment tracking\n"
      ]
    },
    {
      "cell_type": "code",
      "execution_count": null,
      "metadata": {},
      "outputs": [],
      "source": [
        "import pandas as pd\n",
        "import numpy as np\n",
        "import requests\n",
        "import json\n",
        "from datetime import datetime, timedelta\n",
        "\n",
        "# Test data pipeline\n",
        "print(\"Testing Data Pipeline...\")\n",
        "response = requests.get('http://data-pipeline:8001/health')\n",
        "print(f\"Data Pipeline Status: {response.json()}\")\n"
      ]
    }
  ],
  "metadata": {
    "language_info": {
      "name": "python"
    }
  },
  "nbformat": 4,
  "nbformat_minor": 2
}
